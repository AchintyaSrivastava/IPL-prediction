{
 "cells": [
  {
   "cell_type": "markdown",
   "metadata": {},
   "source": [
    "# IPL match prediction\n",
    "Here we are going to extract the following match details\n",
    "1. IPL Season\n",
    "2. Match ID (Match no)\n",
    "3. Team 1 (Team that has batted first)\n",
    "4. Team 2\n",
    "5. Winning team\n",
    "6. Innings 1 runs\n",
    "7. Innings 1 wickets\n",
    "8. Innings 1 overs\n",
    "9. Innings 2 runs \n",
    "10. Innings 2 wickets\n",
    "11. Innings 2 overs\n",
    "12. Venue\n",
    "13. Date\n",
    "\n",
    "And then use the data to predict which team will win"
   ]
  },
  {
   "cell_type": "code",
   "execution_count": 1,
   "metadata": {},
   "outputs": [],
   "source": [
    "import requests\n",
    "import re\n",
    "from bs4 import BeautifulSoup\n",
    "import pandas as pd"
   ]
  },
  {
   "cell_type": "code",
   "execution_count": 2,
   "metadata": {},
   "outputs": [],
   "source": [
    "records = []\n",
    "match_id = 10618\n",
    "\n",
    "while match_id!=10678:\n",
    "    url = \"https://www.cricbuzz.com/api/html/cricket-scorecard/\"+str(match_id)\n",
    "    res = requests.get(url)\n",
    "    src = res.content\n",
    "    soup = BeautifulSoup(src,'html.parser')\n",
    "    try:\n",
    "        team_won = soup.select(\"div.cb-col.cb-scrcrd-status.cb-col-100.cb-text-complete\")\n",
    "        statement = team_won[0].text.strip()\n",
    "        exp_for_winning_team = re.compile(r'(.+)won',re.IGNORECASE)\n",
    "        search_winner = exp_for_winning_team.search(statement)\n",
    "        winning_team = search_winner.group(1).strip()\n",
    "        \n",
    "        teams_playing = soup.select(\".cb-col.cb-col-100.cb-scrd-hdr-rw\")\n",
    "        teams_playing_strip = [x.text.strip() for x in teams_playing]\n",
    "        #print(teams_playing_strip)\n",
    "        exp_teams = re.compile(r'(.+)innings',re.IGNORECASE)\n",
    "        search_team1 = exp_teams.search(teams_playing_strip[0])\n",
    "        team1 = search_team1.group(1).strip()\n",
    "        search_team2 = exp_teams.search(teams_playing_strip[1])\n",
    "        team2 = search_team2.group(1).strip()\n",
    "        #print(team1,team2)\n",
    "        exp_runs_wickets = re.compile(r'[\\d.]+')\n",
    "        search_runs_wickets1 = exp_runs_wickets.findall(teams_playing_strip[0])\n",
    "        team1_runs = search_runs_wickets1[0]\n",
    "        team1_wickets = search_runs_wickets1[1]\n",
    "        team1_overs = search_runs_wickets1[2]\n",
    "        search_runs_wickets2 = exp_runs_wickets.findall(teams_playing_strip[1])\n",
    "        team2_runs = search_runs_wickets2[0]\n",
    "        team2_wickets = search_runs_wickets2[1]\n",
    "        team2_overs = search_runs_wickets2[2]\n",
    "        \n",
    "        match_info = soup.select('.cb-mtch-info-itm')\n",
    "        match_info_strip = [x.text.strip() for x in match_info]\n",
    "        exp_venue = re.compile(r'venue([\\w\\s,\\.]+)',re.IGNORECASE)\n",
    "        #print(match_info_strip[1])\n",
    "\n",
    "        for x in range(0,len(match_info_strip)):\n",
    "            venue_obj = exp_venue.search(match_info_strip[x])\n",
    "            if venue_obj:\n",
    "                venue = venue_obj.group(1).strip()\n",
    "        #print(venue)\n",
    "\n",
    "        exp_date_month = re.compile(r'date[\\w\\s]*,([\\w\\s]+),[\\D\\s]*?(\\d+)\\s?',re.IGNORECASE)\n",
    "\n",
    "        for x in range(0,len(match_info_strip)):\n",
    "            month_obj = exp_date_month.search(match_info_strip[x])\n",
    "            if month_obj:\n",
    "                l = re.split(r'\\s',month_obj.group(1).strip(),1)\n",
    "                month = l[0]\n",
    "                date = l[1]\n",
    "                year = month_obj.group(2).strip()\n",
    "                final_date = month + '-' + date + '-' + year\n",
    "        records.append((3,match_id,team1,team2,winning_team,team1_runs,team1_wickets,team1_overs,\n",
    "               team2_runs,team2_wickets,team2_overs,venue,final_date))\n",
    "        \n",
    "    except:\n",
    "        print('Exception at match id',match_id)\n",
    "        \n",
    "    match_id+=1\n"
   ]
  },
  {
   "cell_type": "code",
   "execution_count": 3,
   "metadata": {},
   "outputs": [],
   "source": [
    "df = pd.DataFrame(records,columns=['IPL season','Match Id','Team 1','Team 2','Winning Team','Innings1 runs',\n",
    "                                       'Innings1 wickets','Innings1 overs','Innings2 runs','Innings2 wickets','Innings2 overs',\n",
    "                                      'Venue','Date'])\n",
    "df.Date = pd.to_datetime(df['Date'])\n",
    "df.to_csv('ipltrail2.csv',index=False,encoding='utf-8')"
   ]
  },
  {
   "cell_type": "code",
   "execution_count": 4,
   "metadata": {},
   "outputs": [],
   "source": [
    "def predict(team1,team2,stadium=None):\n",
    "    df = pd.read_csv('ipltrail2.csv')\n",
    "    team1_wins=0\n",
    "    team2_wins=0\n",
    "    for index,row in df.iterrows():\n",
    "        if ((row[\"Team 1\"]==team1 and row[\"Team 2\"]==team2) or (row[\"Team 2\"]==team1 and row[\"Team 1\"]==team2)):\n",
    "            if row[\"Winning Team\"]==team1:\n",
    "                team1_wins+=1\n",
    "            else:\n",
    "                team2_wins+=1\n",
    "    print(team1+\" has won \"+str(team1_wins)+\" matches\")\n",
    "    print(team2+\" has won \"+str(team2_wins)+\" matches\")\n",
    "    print(\"chances of team1 winning is \"+str((team1_wins/(team1_wins+team2_wins))*100)+\"%\")\n",
    "    print(\"chances of team2 winning is \"+str((team2_wins/(team1_wins+team2_wins))*100)+\"%\")"
   ]
  },
  {
   "cell_type": "code",
   "execution_count": 5,
   "metadata": {},
   "outputs": [
    {
     "name": "stdout",
     "output_type": "stream",
     "text": [
      "Mumbai Indians has won 2 matches\n",
      "Royal Challengers Bangalore has won 1 matches\n",
      "chances of team1 winning is 66.66666666666666%\n",
      "chances of team2 winning is 33.33333333333333%\n"
     ]
    }
   ],
   "source": [
    "predict(\"Mumbai Indians\",\"Royal Challengers Bangalore\")"
   ]
  },
  {
   "cell_type": "code",
   "execution_count": null,
   "metadata": {},
   "outputs": [],
   "source": []
  }
 ],
 "metadata": {
  "kernelspec": {
   "display_name": "Python 3",
   "language": "python",
   "name": "python3"
  },
  "language_info": {
   "codemirror_mode": {
    "name": "ipython",
    "version": 3
   },
   "file_extension": ".py",
   "mimetype": "text/x-python",
   "name": "python",
   "nbconvert_exporter": "python",
   "pygments_lexer": "ipython3",
   "version": "3.6.8"
  }
 },
 "nbformat": 4,
 "nbformat_minor": 2
}
